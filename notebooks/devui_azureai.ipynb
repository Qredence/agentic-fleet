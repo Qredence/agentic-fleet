{
 "cells": [
  {
   "cell_type": "markdown",
   "id": "13c557d0",
   "metadata": {},
   "source": [
    "# Foundry-based Weather Agent for Agent Framework Debug UI\n",
    "\n",
    "This notebook demonstrates a weather agent using Azure AI Foundry with Azure CLI authentication.\n",
    "\n",
    "**Prerequisites:**\n",
    "- Run `az login` before starting devui\n",
    "- Set environment variables:\n",
    "  - `AZURE_AI_PROJECT_ENDPOINT`: Your Azure AI project endpoint\n",
    "  - `FOUNDRY_MODEL_DEPLOYMENT_NAME`: Your model deployment name"
   ]
  },
  {
   "cell_type": "code",
   "execution_count": null,
   "id": "6a8db526",
   "metadata": {},
   "outputs": [],
   "source": [
    "# Copyright (c) Microsoft. All rights reserved.\n",
    "\"\"\"Foundry-based weather agent for Agent Framework Debug UI.\n",
    "\n",
    "This agent uses Azure AI Foundry with Azure CLI authentication.\n",
    "Make sure to run 'az login' before starting devui.\n",
    "\"\"\"\n",
    "\n",
    "import os\n",
    "from typing import Annotated\n",
    "\n",
    "from agent_framework import ChatAgent\n",
    "from agent_framework.azure import AzureAIAgentClient\n",
    "from azure.identity.aio import AzureCliCredential\n",
    "from pydantic import Field\n",
    "\n",
    "\n",
    "def get_weather(\n",
    "    location: Annotated[str, Field(description=\"The location to get the weather for.\")],\n",
    ") -> str:\n",
    "    \"\"\"Get the weather for a given location.\"\"\"\n",
    "    conditions = [\"sunny\", \"cloudy\", \"rainy\", \"stormy\"]\n",
    "    temperature = 22\n",
    "    return f\"The weather in {location} is {conditions[0]} with a high of {temperature}\u00b0C.\"\n",
    "\n",
    "\n",
    "def get_forecast(\n",
    "    location: Annotated[str, Field(description=\"The location to get the forecast for.\")],\n",
    "    days: Annotated[int, Field(description=\"Number of days for forecast\")] = 3,\n",
    ") -> str:\n",
    "    \"\"\"Get weather forecast for multiple days.\"\"\"\n",
    "    conditions = [\"sunny\", \"cloudy\", \"rainy\", \"stormy\"]\n",
    "    forecast: list[str] = []\n",
    "\n",
    "    for day in range(1, days + 1):\n",
    "        condition = conditions[day % len(conditions)]\n",
    "        temp = 18 + day\n",
    "        forecast.append(f\"Day {day}: {condition}, {temp}\u00b0C\")\n",
    "\n",
    "    return f\"Weather forecast for {location}:\\n\" + \"\\n\".join(forecast)\n",
    "\n",
    "\n",
    "# Agent instance following Agent Framework conventions\n",
    "agent = ChatAgent(\n",
    "    name=\"FoundryWeatherAgent\",\n",
    "    chat_client=AzureAIAgentClient(\n",
    "        project_endpoint=os.environ.get(\"AZURE_AI_PROJECT_ENDPOINT\"),\n",
    "        model_deployment_name=os.environ.get(\"FOUNDRY_MODEL_DEPLOYMENT_NAME\"),\n",
    "        async_credential=AzureCliCredential(),\n",
    "    ),\n",
    "    instructions=\"\"\"\n",
    "    You are a weather assistant using Azure AI Foundry models. You can provide\n",
    "    current weather information and forecasts for any location. Always be helpful\n",
    "    and provide detailed weather information when asked.\n",
    "    \"\"\",\n",
    "    tools=[get_weather, get_forecast],\n",
    ")"
   ]
  },
  {
   "cell_type": "code",
   "execution_count": null,
   "id": "6d3c89d1",
   "metadata": {},
   "outputs": [],
   "source": [
    "import asyncio\n",
    "\n",
    "from agent_framework.devui import serve\n",
    "\n",
    "# Launch debug UI - that's it!\n",
    "await asyncio.to_thread(serve, entities=[agent], auto_open=True)"
   ]
  }
 ],
 "metadata": {
  "kernelspec": {
   "display_name": "python (3.12.9)",
   "language": "python",
   "name": "python3"
  },
  "language_info": {
   "codemirror_mode": {
    "name": "ipython",
    "version": 3
   },
   "file_extension": ".py",
   "mimetype": "text/x-python",
   "name": "python",
   "nbconvert_exporter": "python",
   "pygments_lexer": "ipython3",
   "version": "3.12.9"
  }
 },
 "nbformat": 4,
 "nbformat_minor": 5
}
