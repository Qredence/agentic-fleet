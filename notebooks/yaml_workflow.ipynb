{
 "cells": [
  {
   "cell_type": "markdown",
   "id": "fa685be3",
   "metadata": {},
   "source": [
    "# YAML-Based Workflow Example\n",
    "\n",
    "This notebook demonstrates how to define and run Magentic workflows using YAML configuration files."
   ]
  },
  {
   "cell_type": "code",
   "execution_count": null,
   "id": "28da218b",
   "metadata": {},
   "outputs": [],
   "source": [
    "import os\n",
    "from pathlib import Path\n",
    "\n",
    "# Ensure OPENAI_API_KEY is set\n",
    "if not os.getenv(\"OPENAI_API_KEY\"):\n",
    "    raise ValueError(\"Please set OPENAI_API_KEY environment variable\")\n",
    "\n",
    "print(\"✓ Environment ready\")"
   ]
  },
  {
   "cell_type": "markdown",
   "id": "3141cc77",
   "metadata": {},
   "source": [
    "## Step 1: Load Workflow from YAML\n",
    "\n",
    "The workflow configuration is defined in `config/workflows/magentic_example.yaml`.\n",
    "This YAML file specifies:\n",
    "- Orchestrator settings (max rounds, stalls, resets)\n",
    "- Manager/planner configuration (model, instructions)\n",
    "- Agent definitions (researcher, coder with their models and tools)\n",
    "- Callback settings for observability"
   ]
  },
  {
   "cell_type": "code",
   "execution_count": null,
   "id": "7cd06848",
   "metadata": {},
   "outputs": [],
   "source": [
    "from agenticfleet.fleet.workflow_loader import load_workflow_from_yaml\n",
    "\n",
    "# Load the workflow configuration\n",
    "config_path = Path(\"../var/config/workflows/magentic_example.yaml\")\n",
    "workflow_config = load_workflow_from_yaml(config_path)\n",
    "\n",
    "print(f\"Workflow: {workflow_config['name']}\")\n",
    "print(f\"Agents: {[a['name'] for a in workflow_config['agents']]}\")\n",
    "print(\"✓ Configuration loaded\")"
   ]
  },
  {
   "cell_type": "markdown",
   "id": "4113e5ed",
   "metadata": {},
   "source": [
    "## Step 2: Build Workflow from Configuration\n",
    "\n",
    "Create the actual Magentic workflow using the YAML configuration."
   ]
  },
  {
   "cell_type": "code",
   "execution_count": null,
   "id": "76f3914f",
   "metadata": {},
   "outputs": [],
   "source": [
    "from agenticfleet.fleet.callbacks import ConsoleCallbacks\n",
    "from agenticfleet.fleet.workflow_loader import build_workflow_from_config\n",
    "\n",
    "# Create console callbacks for observability\n",
    "callbacks = ConsoleCallbacks()\n",
    "\n",
    "# Build the workflow\n",
    "workflow = build_workflow_from_config(workflow_config, console_callbacks=callbacks)\n",
    "\n",
    "print(\"✓ Workflow built successfully\")"
   ]
  },
  {
   "cell_type": "markdown",
   "id": "6273dd08",
   "metadata": {},
   "source": [
    "## Step 3: Define Task\n",
    "\n",
    "Specify the research and analysis task for the workflow."
   ]
  },
  {
   "cell_type": "code",
   "execution_count": null,
   "id": "a6c7487d",
   "metadata": {},
   "outputs": [],
   "source": [
    "task = (\n",
    "    \"I am preparing a report on renewable energy trends. \"\n",
    "    \"Research the latest developments in solar and wind energy efficiency (2024-2025). \"\n",
    "    \"Then calculate the projected cost reduction percentages if efficiency improves by 15% \"\n",
    "    \"for solar and 20% for wind, assuming current costs of $0.05/kWh \"\n",
    "    \"for solar and $0.04/kWh for wind. Provide a summary with tables \"\n",
    "    \"showing current vs. projected costs.\"\n",
    ")\n",
    "\n",
    "print(f\"Task: {task[:100]}...\")"
   ]
  },
  {
   "cell_type": "markdown",
   "id": "95d8afd8",
   "metadata": {},
   "source": [
    "## Step 4: Run Workflow\n",
    "\n",
    "Execute the workflow with streaming events."
   ]
  },
  {
   "cell_type": "code",
   "execution_count": null,
   "id": "ea6e8d05",
   "metadata": {},
   "outputs": [],
   "source": [
    "from agent_framework import WorkflowOutputEvent\n",
    "\n",
    "\n",
    "async def run_yaml_workflow():\n",
    "    print(\"\\n\" + \"=\" * 50)\n",
    "    print(\"Starting YAML-configured workflow...\")\n",
    "    print(\"=\" * 50 + \"\\n\")\n",
    "\n",
    "    try:\n",
    "        output = None\n",
    "        async for event in workflow.run_stream(task):\n",
    "            if isinstance(event, WorkflowOutputEvent):\n",
    "                output = str(event.data)\n",
    "\n",
    "        if output:\n",
    "            print(f\"\\n\\nWorkflow Result:\\n{output}\")\n",
    "        else:\n",
    "            print(\"\\n\\nWorkflow completed (no output)\")\n",
    "    except Exception as e:\n",
    "        print(f\"\\n\\nWorkflow failed: {e}\")\n",
    "        raise\n",
    "\n",
    "\n",
    "# Execute the workflow\n",
    "await run_yaml_workflow()"
   ]
  },
  {
   "cell_type": "markdown",
   "id": "9cb33068",
   "metadata": {},
   "source": [
    "## Alternative: One-Step Loading\n",
    "\n",
    "You can also load and build the workflow in a single call:"
   ]
  },
  {
   "cell_type": "code",
   "execution_count": null,
   "id": "552ffa0e",
   "metadata": {},
   "outputs": [],
   "source": [
    "from agenticfleet.fleet.workflow_loader import load_and_build_workflow\n",
    "\n",
    "# Load and build in one step\n",
    "workflow_simple = load_and_build_workflow(\"../config/workflows/magentic_example.yaml\")\n",
    "\n",
    "print(\"✓ Workflow loaded and built in one step\")\n",
    "print(\"\\nYou can now run: await workflow_simple.run_stream(task)\")"
   ]
  }
 ],
 "metadata": {
  "kernelspec": {
   "display_name": "AgenticFleet (3.13.2)",
   "language": "python",
   "name": "python3"
  },
  "language_info": {
   "name": "python",
   "version": "3.13.2"
  }
 },
 "nbformat": 4,
 "nbformat_minor": 5
}
