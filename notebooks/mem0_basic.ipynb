{
 "cells": [
  {
   "cell_type": "markdown",
   "id": "90025a44",
   "metadata": {},
   "source": [
    "# Mem0 Context Provider Example\n",
    "\n",
    "This notebook demonstrates how to pair `Mem0Provider` with `AzureAIAgentClient` so an agent can remember user preferences across conversations.\n",
    "\n",
    "Prerequisites:\n",
    "- Run `az login` to authenticate with Azure.\n",
    "- Set the `MEM0_API_KEY` environment variable (or pass the key explicitly to `Mem0Provider`).\n"
   ]
  },
  {
   "cell_type": "code",
   "execution_count": null,
   "id": "fb1adf6e",
   "metadata": {},
   "outputs": [],
   "source": [
    "import asyncio\n",
    "import uuid\n",
    "\n",
    "from agent_framework.azure import AzureAIAgentClient\n",
    "from agent_framework.mem0 import Mem0Provider\n",
    "from azure.identity.aio import AzureCliCredential\n",
    "\n",
    "print(\"Imports loaded.\")"
   ]
  },
  {
   "cell_type": "code",
   "execution_count": null,
   "id": "694111e4",
   "metadata": {},
   "outputs": [],
   "source": [
    "def retrieve_company_report(company_code: str, detailed: bool) -> str:\n",
    "    \"\"\"Return a canned report for the CNTS company code.\n",
    "    Raises ValueError if an unknown company code is provided.\"\"\"\n",
    "    if company_code != \"CNTS\":\n",
    "        raise ValueError(\"Company code not found\")\n",
    "    if not detailed:\n",
    "        return \"CNTS is a company that specializes in technology.\"\n",
    "    return (\n",
    "        \"CNTS is a company that specializes in technology. \"\n",
    "        \"It had a revenue of $10 million in 2022. It has 100 employees.\"\n",
    "    )\n",
    "\n",
    "\n",
    "print(\"Helper tool registered.\")"
   ]
  },
  {
   "cell_type": "markdown",
   "id": "a360b4a3",
   "metadata": {},
   "source": [
    "## Create the Mem0-enabled agent\n",
    "\n",
    "The next cell builds an Azure AI agent and injects a Mem0 context provider so user preferences persist across threads.\n",
    "It mirrors the `mem0_basic.py` sample shipped with the repository.\n"
   ]
  },
  {
   "cell_type": "code",
   "execution_count": null,
   "id": "00a85ed6",
   "metadata": {},
   "outputs": [],
   "source": [
    "async def main() -> None:\n",
    "    \"\"\"Run the Mem0 demonstration workflow.\"\"\"\n",
    "    print(\"=== Mem0 Context Provider Example ===\")\n",
    "\n",
    "    # Each Mem0 record must be associated with one of the supported identifiers.\n",
    "    user_id = str(uuid.uuid4())\n",
    "    print(f\"Generated user id: {user_id}\")\n",
    "\n",
    "    # Authenticate with Azure and build the agent configured with Mem0.\n",
    "    async with (\n",
    "        AzureCliCredential() as credential,\n",
    "        AzureAIAgentClient(async_credential=credential).create_agent(\n",
    "            name=\"FriendlyAssistant\",\n",
    "            instructions=\"You are a friendly assistant.\",\n",
    "            tools=retrieve_company_report,\n",
    "            context_providers=Mem0Provider(user_id=user_id),\n",
    "        ) as agent,\n",
    "    ):\n",
    "        # First request: agent lacks context so it should ask clarifying questions.\n",
    "        query = \"Please retrieve my company report\"\n",
    "        print(f\"User: {query}\")\n",
    "        result = await agent.run(query)\n",
    "        print(f\"Agent: {result}\\n\")\n",
    "\n",
    "        # Second request: provide preferences so they are stored via Mem0.\n",
    "        query = \"I always work with CNTS and I always want a detailed report format. Please remember and retrieve it.\"\n",
    "        print(f\"User: {query}\")\n",
    "        result = await agent.run(query)\n",
    "        print(f\"Agent: {result}\\n\")\n",
    "\n",
    "        print(\"\\nRequest within a new thread:\")\n",
    "        thread = agent.get_new_thread()\n",
    "\n",
    "        # Third request: the new thread starts empty, but Mem0 should replay preferences.\n",
    "        query = \"Please retrieve my company report\"\n",
    "        print(f\"User: {query}\")\n",
    "        result = await agent.run(query, thread=thread)\n",
    "        print(f\"Agent: {result}\\n\")\n",
    "\n",
    "\n",
    "print(\"Async workflow defined.\")"
   ]
  },
  {
   "cell_type": "code",
   "execution_count": null,
   "id": "c0977071",
   "metadata": {},
   "outputs": [],
   "source": [
    "# Execute the coroutine in both notebook and script contexts.\n",
    "\n",
    "try:\n",
    "    loop = asyncio.get_running_loop()\n",
    "\n",
    "except RuntimeError:\n",
    "    asyncio.run(main())\n",
    "\n",
    "else:\n",
    "    if loop.is_running():\n",
    "        await main()\n",
    "\n",
    "    else:\n",
    "        loop.run_until_complete(main())"
   ]
  }
 ],
 "metadata": {
  "kernelspec": {
   "display_name": "python (3.12.9)",
   "language": "python",
   "name": "python3"
  },
  "language_info": {
   "codemirror_mode": {
    "name": "ipython",
    "version": 3
   },
   "file_extension": ".py",
   "mimetype": "text/x-python",
   "name": "python",
   "nbconvert_exporter": "python",
   "pygments_lexer": "ipython3",
   "version": "3.12.9"
  }
 },
 "nbformat": 4,
 "nbformat_minor": 5
}
