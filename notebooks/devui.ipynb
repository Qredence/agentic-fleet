{
 "cells": [
  {
   "cell_type": "code",
   "execution_count": null,
   "id": "ef47a030",
   "metadata": {},
   "outputs": [],
   "source": [
    "import asyncio\n",
    "\n",
    "from agent_framework import ChatAgent\n",
    "from agent_framework.devui import serve\n",
    "from agent_framework.openai import OpenAIChatClient\n",
    "from dotenv import load_dotenv\n",
    "\n",
    "load_dotenv()\n",
    "\n",
    "def get_weather(location: str) -> str:\n",
    "    \"\"\"Get weather for a location.\"\"\"\n",
    "    return f\"Weather in {location}: 72\u00b0F and sunny\"\n",
    "\n",
    "# Create your agent\n",
    "agent = ChatAgent(\n",
    "    name=\"WeatherAgent\",\n",
    "    chat_client=OpenAIChatClient(),\n",
    "    tools=[get_weather]\n",
    " )\n",
    "\n",
    "# Launch debug UI - that's it!\n",
    "await asyncio.to_thread(serve, entities=[agent], auto_open=True)"
   ]
  }
 ],
 "metadata": {
  "kernelspec": {
   "display_name": "python (3.12.9)",
   "language": "python",
   "name": "python3"
  },
  "language_info": {
   "codemirror_mode": {
    "name": "ipython",
    "version": 3
   },
   "file_extension": ".py",
   "mimetype": "text/x-python",
   "name": "python",
   "nbconvert_exporter": "python",
   "pygments_lexer": "ipython3",
   "version": "3.12.9"
  }
 },
 "nbformat": 4,
 "nbformat_minor": 5
}
